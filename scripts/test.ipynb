{
 "cells": [
  {
   "cell_type": "code",
   "execution_count": 1,
   "metadata": {},
   "outputs": [],
   "source": [
    "import sys\n",
    "sys.path.append('..')"
   ]
  },
  {
   "cell_type": "code",
   "execution_count": 2,
   "metadata": {},
   "outputs": [],
   "source": [
    "import CAT\n",
    "import json\n",
    "import torch\n",
    "import logging\n",
    "import datetime\n",
    "import numpy as np\n",
    "import pandas as pd\n",
    "import matplotlib.pyplot as plt\n",
    "from tensorboardX import SummaryWriter"
   ]
  },
  {
   "cell_type": "code",
   "execution_count": 3,
   "metadata": {},
   "outputs": [],
   "source": [
    "def setuplogger():\n",
    "    root = logging.getLogger()\n",
    "    root.setLevel(logging.INFO)\n",
    "    handler = logging.StreamHandler(sys.stdout)\n",
    "    handler.setLevel(logging.INFO)\n",
    "    formatter = logging.Formatter(\"[%(levelname)s %(asctime)s] %(message)s\")\n",
    "    handler.setFormatter(formatter)\n",
    "    root.addHandler(handler)"
   ]
  },
  {
   "cell_type": "code",
   "execution_count": 4,
   "metadata": {},
   "outputs": [],
   "source": [
    "setuplogger()"
   ]
  },
  {
   "cell_type": "code",
   "execution_count": 5,
   "metadata": {},
   "outputs": [
    {
     "data": {
      "text/plain": [
       "<torch._C.Generator at 0x7ff26265fa10>"
      ]
     },
     "execution_count": 5,
     "metadata": {},
     "output_type": "execute_result"
    }
   ],
   "source": [
    "seed = 0\n",
    "np.random.seed(seed)\n",
    "torch.manual_seed(seed)"
   ]
  },
  {
   "cell_type": "code",
   "execution_count": 6,
   "metadata": {},
   "outputs": [
    {
     "name": "stdout",
     "output_type": "stream",
     "text": [
      "../logs/2021-03-09-14:51/\n"
     ]
    }
   ],
   "source": [
    "# tensorboard\n",
    "log_dir = f\"../logs/{datetime.datetime.now().strftime('%Y-%m-%d-%H:%M')}/\"\n",
    "print(log_dir)\n",
    "writer = SummaryWriter(log_dir)"
   ]
  },
  {
   "cell_type": "code",
   "execution_count": 7,
   "metadata": {},
   "outputs": [],
   "source": [
    "# choose dataset here\n",
    "dataset = 'assistment'\n",
    "# modify config here\n",
    "config = {\n",
    "    'learning_rate': 0.0025,\n",
    "    'batch_size': 2048,\n",
    "    'num_epochs': 8,\n",
    "    'num_dim': 1, # for IRT or MIRT\n",
    "    'device': 'cpu',\n",
    "    # for NeuralCD\n",
    "    'prednet_len1': 128,\n",
    "    'prednet_len2': 64,\n",
    "}\n",
    "# fixed test length\n",
    "test_length = 5\n",
    "# choose strategies here\n",
    "strategies = [CAT.strategy.RandomStrategy(), CAT.strategy.MFIStrategy(), CAT.strategy.KLIStrategy()]\n",
    "# modify checkpoint path here\n",
    "ckpt_path = '../ckpt/irt.pt'"
   ]
  },
  {
   "cell_type": "code",
   "execution_count": 8,
   "metadata": {},
   "outputs": [],
   "source": [
    "# read datasets\n",
    "test_triplets = pd.read_csv(f'../data/{dataset}/test_triples.csv', encoding='utf-8').to_records(index=False)\n",
    "concept_map = json.load(open(f'../data/{dataset}/concept_map.json', 'r'))\n",
    "concept_map = {int(k):v for k,v in concept_map.items()}\n",
    "metadata = json.load(open(f'../data/{dataset}/metadata.json', 'r'))"
   ]
  },
  {
   "cell_type": "code",
   "execution_count": 9,
   "metadata": {},
   "outputs": [],
   "source": [
    "test_data = CAT.dataset.AdapTestDataset(test_triplets, concept_map,\n",
    "                                        metadata['num_test_students'], \n",
    "                                        metadata['num_questions'], \n",
    "                                        metadata['num_concepts'])"
   ]
  },
  {
   "cell_type": "code",
   "execution_count": 10,
   "metadata": {},
   "outputs": [],
   "source": [
    "import warnings\n",
    "warnings.filterwarnings(\"ignore\")"
   ]
  },
  {
   "cell_type": "code",
   "execution_count": 11,
   "metadata": {},
   "outputs": [
    {
     "name": "stdout",
     "output_type": "stream",
     "text": [
      "[INFO 2021-03-09 14:51:04,289] -----------\n",
      "[INFO 2021-03-09 14:51:04,290] start adaptive testing with Random Select Strategy strategy\n",
      "[INFO 2021-03-09 14:51:04,291] Iteration 0\n",
      "[INFO 2021-03-09 14:51:04,308] auc:0.6484533447389293\n",
      "[INFO 2021-03-09 14:51:04,309] cov:0.0\n",
      "[INFO 2021-03-09 14:51:04,309] Iteration 1\n",
      "[INFO 2021-03-09 14:51:04,344] auc:0.6489562662794149\n",
      "[INFO 2021-03-09 14:51:04,347] cov:0.05801618621590955\n",
      "[INFO 2021-03-09 14:51:04,349] Iteration 2\n",
      "[INFO 2021-03-09 14:51:04,382] auc:0.6487346765890865\n",
      "[INFO 2021-03-09 14:51:04,383] cov:0.11609196598657111\n",
      "[INFO 2021-03-09 14:51:04,384] Iteration 3\n",
      "[INFO 2021-03-09 14:51:04,413] auc:0.6500624347642152\n",
      "[INFO 2021-03-09 14:51:04,413] cov:0.1612808712341023\n",
      "[INFO 2021-03-09 14:51:04,414] Iteration 4\n",
      "[INFO 2021-03-09 14:51:04,443] auc:0.6512111930010926\n",
      "[INFO 2021-03-09 14:51:04,443] cov:0.20574638420300764\n",
      "[INFO 2021-03-09 14:51:04,444] Iteration 5\n",
      "[INFO 2021-03-09 14:51:04,473] auc:0.6514404203673256\n",
      "[INFO 2021-03-09 14:51:04,474] cov:0.2428003818854224\n",
      "[INFO 2021-03-09 14:51:04,478] -----------\n",
      "[INFO 2021-03-09 14:51:04,478] start adaptive testing with Maximum Fisher Information Strategy strategy\n",
      "[INFO 2021-03-09 14:51:04,479] Iteration 0\n",
      "[INFO 2021-03-09 14:51:04,493] auc:0.6459189955860706\n",
      "[INFO 2021-03-09 14:51:04,494] cov:0.0\n",
      "[INFO 2021-03-09 14:51:04,495] Iteration 1\n",
      "[INFO 2021-03-09 14:51:06,005] auc:0.647302288726674\n",
      "[INFO 2021-03-09 14:51:06,007] cov:0.0503951833541452\n",
      "[INFO 2021-03-09 14:51:06,009] Iteration 2\n",
      "[INFO 2021-03-09 14:51:07,396] auc:0.6485068408332938\n",
      "[INFO 2021-03-09 14:51:07,397] cov:0.1017306607056953\n",
      "[INFO 2021-03-09 14:51:07,398] Iteration 3\n",
      "[INFO 2021-03-09 14:51:08,729] auc:0.6499061213124426\n",
      "[INFO 2021-03-09 14:51:08,730] cov:0.14101164847492498\n",
      "[INFO 2021-03-09 14:51:08,731] Iteration 4\n",
      "[INFO 2021-03-09 14:51:10,169] auc:0.6515281889141593\n",
      "[INFO 2021-03-09 14:51:10,169] cov:0.17938349590744032\n",
      "[INFO 2021-03-09 14:51:10,170] Iteration 5\n",
      "[INFO 2021-03-09 14:51:11,581] auc:0.6532324909839825\n",
      "[INFO 2021-03-09 14:51:11,581] cov:0.2149702203321859\n",
      "[INFO 2021-03-09 14:51:11,586] -----------\n",
      "[INFO 2021-03-09 14:51:11,587] start adaptive testing with Kullback-Leibler Information Strategy strategy\n",
      "[INFO 2021-03-09 14:51:11,587] Iteration 0\n",
      "[INFO 2021-03-09 14:51:11,600] auc:0.6468982686165439\n",
      "[INFO 2021-03-09 14:51:11,601] cov:0.0\n",
      "[INFO 2021-03-09 14:51:11,602] Iteration 1\n",
      "[INFO 2021-03-09 14:51:11,637] auc:0.6485143490570642\n",
      "[INFO 2021-03-09 14:51:11,639] cov:0.0503951833541452\n",
      "[INFO 2021-03-09 14:51:11,642] Iteration 2\n",
      "[INFO 2021-03-09 14:51:18,253] auc:0.6500137283988079\n",
      "[INFO 2021-03-09 14:51:18,254] cov:0.09764420342774864\n",
      "[INFO 2021-03-09 14:51:18,255] Iteration 3\n",
      "[INFO 2021-03-09 14:51:23,240] auc:0.6511878916169775\n",
      "[INFO 2021-03-09 14:51:23,241] cov:0.1447750201916595\n",
      "[INFO 2021-03-09 14:51:23,242] Iteration 4\n",
      "[INFO 2021-03-09 14:51:27,671] auc:0.6521859675699103\n",
      "[INFO 2021-03-09 14:51:27,672] cov:0.1899559742455468\n",
      "[INFO 2021-03-09 14:51:27,673] Iteration 5\n",
      "[INFO 2021-03-09 14:51:32,046] auc:0.6539360633321265\n",
      "[INFO 2021-03-09 14:51:32,046] cov:0.21959693579152112\n"
     ]
    }
   ],
   "source": [
    "for strategy in strategies:\n",
    "    model = CAT.model.IRTModel(**config)\n",
    "    model.init_model(test_data)\n",
    "    model.adaptest_load(ckpt_path)\n",
    "    test_data.reset()\n",
    "    \n",
    "    logging.info('-----------')\n",
    "    logging.info(f'start adaptive testing with {strategy.name} strategy')\n",
    "\n",
    "    logging.info(f'Iteration 0')\n",
    "    # evaluate models\n",
    "    results = model.evaluate(test_data)\n",
    "    for name, value in results.items():\n",
    "        logging.info(f'{name}:{value}')\n",
    "        \n",
    "    for it in range(1, test_length + 1):\n",
    "        logging.info(f'Iteration {it}')\n",
    "        # select question\n",
    "        selected_questions = strategy.adaptest_select(model, test_data)\n",
    "        for student, question in selected_questions.items():\n",
    "            test_data.apply_selection(student, question)\n",
    "        # update models\n",
    "        model.adaptest_update(test_data)\n",
    "        # evaluate models\n",
    "        results = model.evaluate(test_data)\n",
    "        # log results\n",
    "        for name, value in results.items():\n",
    "            logging.info(f'{name}:{value}')\n",
    "            writer.add_scalars(name, {strategy.name: value}, it)"
   ]
  },
  {
   "cell_type": "code",
   "execution_count": null,
   "metadata": {},
   "outputs": [],
   "source": []
  }
 ],
 "metadata": {
  "kernelspec": {
   "display_name": "Python 3",
   "language": "python",
   "name": "python3"
  },
  "language_info": {
   "codemirror_mode": {
    "name": "ipython",
    "version": 3
   },
   "file_extension": ".py",
   "mimetype": "text/x-python",
   "name": "python",
   "nbconvert_exporter": "python",
   "pygments_lexer": "ipython3",
   "version": "3.7.9"
  }
 },
 "nbformat": 4,
 "nbformat_minor": 4
}
