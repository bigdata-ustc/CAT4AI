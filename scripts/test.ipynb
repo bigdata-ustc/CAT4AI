{
 "cells": [
  {
   "cell_type": "code",
   "execution_count": 57,
   "metadata": {},
   "outputs": [],
   "source": [
    "import sys\n",
    "sys.path.append('..')"
   ]
  },
  {
   "cell_type": "code",
   "execution_count": 58,
   "metadata": {},
   "outputs": [],
   "source": [
    "import CAT\n",
    "import json\n",
    "import torch\n",
    "import logging\n",
    "import datetime\n",
    "import numpy as np\n",
    "import pandas as pd\n",
    "import matplotlib.pyplot as plt\n",
    "from tensorboardX import SummaryWriter"
   ]
  },
  {
   "cell_type": "code",
   "execution_count": 59,
   "metadata": {},
   "outputs": [],
   "source": [
    "def setuplogger():\n",
    "    root = logging.getLogger()\n",
    "    root.setLevel(logging.INFO)\n",
    "    handler = logging.StreamHandler(sys.stdout)\n",
    "    handler.setLevel(logging.INFO)\n",
    "    formatter = logging.Formatter(\"[%(levelname)s %(asctime)s] %(message)s\")\n",
    "    handler.setFormatter(formatter)\n",
    "    root.addHandler(handler)"
   ]
  },
  {
   "cell_type": "code",
   "execution_count": 60,
   "metadata": {},
   "outputs": [],
   "source": [
    "setuplogger()"
   ]
  },
  {
   "cell_type": "code",
   "execution_count": 61,
   "metadata": {},
   "outputs": [
    {
     "data": {
      "text/plain": [
       "<torch._C.Generator at 0x2181822c110>"
      ]
     },
     "execution_count": 61,
     "metadata": {},
     "output_type": "execute_result"
    }
   ],
   "source": [
    "seed = 0\n",
    "np.random.seed(seed)\n",
    "torch.manual_seed(seed)"
   ]
  },
  {
   "cell_type": "code",
   "execution_count": 62,
   "metadata": {},
   "outputs": [
    {
     "name": "stdout",
     "output_type": "stream",
     "text": [
      "../logs/2024-09-29-1812/\n"
     ]
    }
   ],
   "source": [
    "log_dir = f\"../logs/{datetime.datetime.now().strftime('%Y-%m-%d-%H%M')}/\"\n",
    "print(log_dir)\n",
    "writer = SummaryWriter(log_dir)"
   ]
  },
  {
   "cell_type": "code",
   "execution_count": 63,
   "metadata": {},
   "outputs": [],
   "source": [
    "# choose dataset here\n",
    "dataset = 'assistment'\n",
    "# modify config here\n",
    "config = {\n",
    "    'learning_rate': 0.0025,\n",
    "    'batch_size': 64,\n",
    "    'num_epochs': 8,\n",
    "    'num_dim': 1, # for IRT or MIRT\n",
    "    'device': 'cpu',\n",
    "    # for NeuralCD\n",
    "    'prednet_len1': 128,\n",
    "    'prednet_len2': 64,\n",
    "}\n",
    "# fixed test length\n",
    "test_length = 1\n",
    "# choose strategies here\n",
    "strategies = [CAT.strategy.RandomStrategy(), CAT.strategy.MFIStrategy(), CAT.strategy.KLIStrategy()]\n",
    "# modify checkpoint path here\n",
    "ckpt_path = './irt.pt'"
   ]
  },
  {
   "cell_type": "code",
   "execution_count": 64,
   "metadata": {},
   "outputs": [],
   "source": [
    "# read datasets\n",
    "test_triplets = pd.read_csv(f'./dataset/test_triples.csv', encoding='utf-8').to_records(index=False)\n",
    "concept_map = json.load(open(f'./dataset/concept_map.json', 'r'))\n",
    "concept_map = {int(k):v for k,v in concept_map.items()}\n",
    "metadata = json.load(open(f'./dataset/metadata.json', 'r'))"
   ]
  },
  {
   "cell_type": "code",
   "execution_count": 65,
   "metadata": {},
   "outputs": [],
   "source": [
    "test_data = CAT.dataset.AdapTestDataset(test_triplets, concept_map,\n",
    "                                        metadata['num_test_students'], \n",
    "                                        metadata['num_questions'], \n",
    "                                        metadata['num_concepts'])"
   ]
  },
  {
   "cell_type": "code",
   "execution_count": 66,
   "metadata": {},
   "outputs": [],
   "source": [
    "import warnings\n",
    "warnings.filterwarnings(\"ignore\")"
   ]
  },
  {
   "cell_type": "code",
   "execution_count": 67,
   "metadata": {},
   "outputs": [
    {
     "name": "stdout",
     "output_type": "stream",
     "text": [
      "[INFO 2024-09-29 18:12:36,119] -----------\n",
      "[INFO 2024-09-29 18:12:36,119] -----------\n",
      "[INFO 2024-09-29 18:12:36,119] -----------\n",
      "[INFO 2024-09-29 18:12:36,119] -----------\n",
      "[INFO 2024-09-29 18:12:36,119] -----------\n",
      "[INFO 2024-09-29 18:12:36,119] -----------\n",
      "[INFO 2024-09-29 18:12:36,123] start adaptive testing with Random Select Strategy strategy\n",
      "[INFO 2024-09-29 18:12:36,123] start adaptive testing with Random Select Strategy strategy\n",
      "[INFO 2024-09-29 18:12:36,123] start adaptive testing with Random Select Strategy strategy\n",
      "[INFO 2024-09-29 18:12:36,123] start adaptive testing with Random Select Strategy strategy\n",
      "[INFO 2024-09-29 18:12:36,123] start adaptive testing with Random Select Strategy strategy\n",
      "[INFO 2024-09-29 18:12:36,123] start adaptive testing with Random Select Strategy strategy\n",
      "[INFO 2024-09-29 18:12:36,128] Iteration 0\n",
      "[INFO 2024-09-29 18:12:36,128] Iteration 0\n",
      "[INFO 2024-09-29 18:12:36,128] Iteration 0\n",
      "[INFO 2024-09-29 18:12:36,128] Iteration 0\n",
      "[INFO 2024-09-29 18:12:36,128] Iteration 0\n",
      "[INFO 2024-09-29 18:12:36,128] Iteration 0\n",
      "[INFO 2024-09-29 18:12:36,140] auc:0.6902042353997339\n",
      "[INFO 2024-09-29 18:12:36,140] auc:0.6902042353997339\n",
      "[INFO 2024-09-29 18:12:36,140] auc:0.6902042353997339\n",
      "[INFO 2024-09-29 18:12:36,140] auc:0.6902042353997339\n",
      "[INFO 2024-09-29 18:12:36,140] auc:0.6902042353997339\n",
      "[INFO 2024-09-29 18:12:36,140] auc:0.6902042353997339\n",
      "[INFO 2024-09-29 18:12:36,144] cov:0.0\n",
      "[INFO 2024-09-29 18:12:36,144] cov:0.0\n",
      "[INFO 2024-09-29 18:12:36,144] cov:0.0\n",
      "[INFO 2024-09-29 18:12:36,144] cov:0.0\n",
      "[INFO 2024-09-29 18:12:36,144] cov:0.0\n",
      "[INFO 2024-09-29 18:12:36,144] cov:0.0\n",
      "[INFO 2024-09-29 18:12:36,147] Iteration 1\n",
      "[INFO 2024-09-29 18:12:36,147] Iteration 1\n",
      "[INFO 2024-09-29 18:12:36,147] Iteration 1\n",
      "[INFO 2024-09-29 18:12:36,147] Iteration 1\n",
      "[INFO 2024-09-29 18:12:36,147] Iteration 1\n",
      "[INFO 2024-09-29 18:12:36,147] Iteration 1\n",
      "[INFO 2024-09-29 18:12:36,633] auc:0.6891602141746422\n",
      "[INFO 2024-09-29 18:12:36,633] auc:0.6891602141746422\n",
      "[INFO 2024-09-29 18:12:36,633] auc:0.6891602141746422\n",
      "[INFO 2024-09-29 18:12:36,633] auc:0.6891602141746422\n",
      "[INFO 2024-09-29 18:12:36,633] auc:0.6891602141746422\n",
      "[INFO 2024-09-29 18:12:36,633] auc:0.6891602141746422\n",
      "[INFO 2024-09-29 18:12:36,643] cov:0.001\n",
      "[INFO 2024-09-29 18:12:36,643] cov:0.001\n",
      "[INFO 2024-09-29 18:12:36,643] cov:0.001\n",
      "[INFO 2024-09-29 18:12:36,643] cov:0.001\n",
      "[INFO 2024-09-29 18:12:36,643] cov:0.001\n",
      "[INFO 2024-09-29 18:12:36,643] cov:0.001\n",
      "[INFO 2024-09-29 18:12:36,657] -----------\n",
      "[INFO 2024-09-29 18:12:36,657] -----------\n",
      "[INFO 2024-09-29 18:12:36,657] -----------\n",
      "[INFO 2024-09-29 18:12:36,657] -----------\n",
      "[INFO 2024-09-29 18:12:36,657] -----------\n",
      "[INFO 2024-09-29 18:12:36,657] -----------\n",
      "[INFO 2024-09-29 18:12:36,661] start adaptive testing with Maximum Fisher Information Strategy strategy\n",
      "[INFO 2024-09-29 18:12:36,661] start adaptive testing with Maximum Fisher Information Strategy strategy\n",
      "[INFO 2024-09-29 18:12:36,661] start adaptive testing with Maximum Fisher Information Strategy strategy\n",
      "[INFO 2024-09-29 18:12:36,661] start adaptive testing with Maximum Fisher Information Strategy strategy\n",
      "[INFO 2024-09-29 18:12:36,661] start adaptive testing with Maximum Fisher Information Strategy strategy\n",
      "[INFO 2024-09-29 18:12:36,661] start adaptive testing with Maximum Fisher Information Strategy strategy\n",
      "[INFO 2024-09-29 18:12:36,666] Iteration 0\n",
      "[INFO 2024-09-29 18:12:36,666] Iteration 0\n",
      "[INFO 2024-09-29 18:12:36,666] Iteration 0\n",
      "[INFO 2024-09-29 18:12:36,666] Iteration 0\n",
      "[INFO 2024-09-29 18:12:36,666] Iteration 0\n",
      "[INFO 2024-09-29 18:12:36,666] Iteration 0\n",
      "[INFO 2024-09-29 18:12:36,680] auc:0.6952700428028662\n",
      "[INFO 2024-09-29 18:12:36,680] auc:0.6952700428028662\n",
      "[INFO 2024-09-29 18:12:36,680] auc:0.6952700428028662\n",
      "[INFO 2024-09-29 18:12:36,680] auc:0.6952700428028662\n",
      "[INFO 2024-09-29 18:12:36,680] auc:0.6952700428028662\n",
      "[INFO 2024-09-29 18:12:36,680] auc:0.6952700428028662\n",
      "[INFO 2024-09-29 18:12:36,685] cov:0.0\n",
      "[INFO 2024-09-29 18:12:36,685] cov:0.0\n",
      "[INFO 2024-09-29 18:12:36,685] cov:0.0\n",
      "[INFO 2024-09-29 18:12:36,685] cov:0.0\n",
      "[INFO 2024-09-29 18:12:36,685] cov:0.0\n",
      "[INFO 2024-09-29 18:12:36,685] cov:0.0\n",
      "[INFO 2024-09-29 18:12:36,690] Iteration 1\n",
      "[INFO 2024-09-29 18:12:36,690] Iteration 1\n",
      "[INFO 2024-09-29 18:12:36,690] Iteration 1\n",
      "[INFO 2024-09-29 18:12:36,690] Iteration 1\n",
      "[INFO 2024-09-29 18:12:36,690] Iteration 1\n",
      "[INFO 2024-09-29 18:12:36,690] Iteration 1\n",
      "[INFO 2024-09-29 18:12:37,300] auc:0.6959794161496657\n",
      "[INFO 2024-09-29 18:12:37,300] auc:0.6959794161496657\n",
      "[INFO 2024-09-29 18:12:37,300] auc:0.6959794161496657\n",
      "[INFO 2024-09-29 18:12:37,300] auc:0.6959794161496657\n",
      "[INFO 2024-09-29 18:12:37,300] auc:0.6959794161496657\n",
      "[INFO 2024-09-29 18:12:37,300] auc:0.6959794161496657\n",
      "[INFO 2024-09-29 18:12:37,307] cov:0.001\n",
      "[INFO 2024-09-29 18:12:37,307] cov:0.001\n",
      "[INFO 2024-09-29 18:12:37,307] cov:0.001\n",
      "[INFO 2024-09-29 18:12:37,307] cov:0.001\n",
      "[INFO 2024-09-29 18:12:37,307] cov:0.001\n",
      "[INFO 2024-09-29 18:12:37,307] cov:0.001\n",
      "[INFO 2024-09-29 18:12:37,330] -----------\n",
      "[INFO 2024-09-29 18:12:37,330] -----------\n",
      "[INFO 2024-09-29 18:12:37,330] -----------\n",
      "[INFO 2024-09-29 18:12:37,330] -----------\n",
      "[INFO 2024-09-29 18:12:37,330] -----------\n",
      "[INFO 2024-09-29 18:12:37,330] -----------\n",
      "[INFO 2024-09-29 18:12:37,338] start adaptive testing with Kullback-Leibler Information Strategy strategy\n",
      "[INFO 2024-09-29 18:12:37,338] start adaptive testing with Kullback-Leibler Information Strategy strategy\n",
      "[INFO 2024-09-29 18:12:37,338] start adaptive testing with Kullback-Leibler Information Strategy strategy\n",
      "[INFO 2024-09-29 18:12:37,338] start adaptive testing with Kullback-Leibler Information Strategy strategy\n",
      "[INFO 2024-09-29 18:12:37,338] start adaptive testing with Kullback-Leibler Information Strategy strategy\n",
      "[INFO 2024-09-29 18:12:37,338] start adaptive testing with Kullback-Leibler Information Strategy strategy\n",
      "[INFO 2024-09-29 18:12:37,342] Iteration 0\n",
      "[INFO 2024-09-29 18:12:37,342] Iteration 0\n",
      "[INFO 2024-09-29 18:12:37,342] Iteration 0\n",
      "[INFO 2024-09-29 18:12:37,342] Iteration 0\n",
      "[INFO 2024-09-29 18:12:37,342] Iteration 0\n",
      "[INFO 2024-09-29 18:12:37,342] Iteration 0\n",
      "[INFO 2024-09-29 18:12:37,356] auc:0.42507694897321213\n",
      "[INFO 2024-09-29 18:12:37,356] auc:0.42507694897321213\n",
      "[INFO 2024-09-29 18:12:37,356] auc:0.42507694897321213\n",
      "[INFO 2024-09-29 18:12:37,356] auc:0.42507694897321213\n",
      "[INFO 2024-09-29 18:12:37,356] auc:0.42507694897321213\n",
      "[INFO 2024-09-29 18:12:37,356] auc:0.42507694897321213\n",
      "[INFO 2024-09-29 18:12:37,360] cov:0.0\n",
      "[INFO 2024-09-29 18:12:37,360] cov:0.0\n",
      "[INFO 2024-09-29 18:12:37,360] cov:0.0\n",
      "[INFO 2024-09-29 18:12:37,360] cov:0.0\n",
      "[INFO 2024-09-29 18:12:37,360] cov:0.0\n",
      "[INFO 2024-09-29 18:12:37,360] cov:0.0\n",
      "[INFO 2024-09-29 18:12:37,365] Iteration 1\n",
      "[INFO 2024-09-29 18:12:37,365] Iteration 1\n",
      "[INFO 2024-09-29 18:12:37,365] Iteration 1\n",
      "[INFO 2024-09-29 18:12:37,365] Iteration 1\n",
      "[INFO 2024-09-29 18:12:37,365] Iteration 1\n",
      "[INFO 2024-09-29 18:12:37,365] Iteration 1\n",
      "[INFO 2024-09-29 18:12:37,865] auc:0.4264215521249138\n",
      "[INFO 2024-09-29 18:12:37,865] auc:0.4264215521249138\n",
      "[INFO 2024-09-29 18:12:37,865] auc:0.4264215521249138\n",
      "[INFO 2024-09-29 18:12:37,865] auc:0.4264215521249138\n",
      "[INFO 2024-09-29 18:12:37,865] auc:0.4264215521249138\n",
      "[INFO 2024-09-29 18:12:37,865] auc:0.4264215521249138\n",
      "[INFO 2024-09-29 18:12:37,872] cov:0.001\n",
      "[INFO 2024-09-29 18:12:37,872] cov:0.001\n",
      "[INFO 2024-09-29 18:12:37,872] cov:0.001\n",
      "[INFO 2024-09-29 18:12:37,872] cov:0.001\n",
      "[INFO 2024-09-29 18:12:37,872] cov:0.001\n",
      "[INFO 2024-09-29 18:12:37,872] cov:0.001\n"
     ]
    }
   ],
   "source": [
    "for strategy in strategies:\n",
    "    model = CAT.model.IRTModel(**config)\n",
    "    model.init_model(test_data)\n",
    "    model.adaptest_load(ckpt_path)\n",
    "    test_data.reset()\n",
    "    \n",
    "    logging.info('-----------')\n",
    "    logging.info(f'start adaptive testing with {strategy.name} strategy')\n",
    "\n",
    "    logging.info(f'Iteration 0')\n",
    "    # evaluate models\n",
    "    results = model.evaluate(test_data)\n",
    "    for name, value in results.items():\n",
    "        logging.info(f'{name}:{value}')\n",
    "        \n",
    "    for it in range(1, test_length + 1):\n",
    "        logging.info(f'Iteration {it}')\n",
    "        # select question\n",
    "        selected_questions = strategy.adaptest_select(model, test_data)\n",
    "        for student, question in selected_questions.items():\n",
    "            test_data.apply_selection(student, question)\n",
    "        # update models\n",
    "        model.adaptest_update(test_data)\n",
    "        # evaluate models\n",
    "        results = model.evaluate(test_data)\n",
    "        # log results\n",
    "        for name, value in results.items():\n",
    "            logging.info(f'{name}:{value}')\n",
    "            writer.add_scalars(name, {strategy.name: value}, it)"
   ]
  }
 ],
 "metadata": {
  "kernelspec": {
   "display_name": "Python 3",
   "language": "python",
   "name": "python3"
  },
  "language_info": {
   "codemirror_mode": {
    "name": "ipython",
    "version": 3
   },
   "file_extension": ".py",
   "mimetype": "text/x-python",
   "name": "python",
   "nbconvert_exporter": "python",
   "pygments_lexer": "ipython3",
   "version": "3.8.18"
  }
 },
 "nbformat": 4,
 "nbformat_minor": 4
}
