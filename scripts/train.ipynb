{
 "cells": [
  {
   "cell_type": "code",
   "execution_count": 2,
   "metadata": {},
   "outputs": [],
   "source": [
    "import CAT\n",
    "import sys\n",
    "import json\n",
    "import logging\n",
    "import numpy as np\n",
    "import pandas as pd"
   ]
  },
  {
   "cell_type": "code",
   "execution_count": 3,
   "metadata": {},
   "outputs": [],
   "source": [
    "def setuplogger():\n",
    "    root = logging.getLogger()\n",
    "    root.setLevel(logging.INFO)\n",
    "    handler = logging.StreamHandler(sys.stdout)\n",
    "    handler.setLevel(logging.INFO)\n",
    "    formatter = logging.Formatter(\"[%(levelname)s %(asctime)s] %(message)s\")\n",
    "    handler.setFormatter(formatter)\n",
    "    root.addHandler(handler)"
   ]
  },
  {
   "cell_type": "code",
   "execution_count": 4,
   "metadata": {},
   "outputs": [],
   "source": [
    "setuplogger()"
   ]
  },
  {
   "cell_type": "code",
   "execution_count": 5,
   "metadata": {},
   "outputs": [],
   "source": [
    "# choose dataset here\n",
    "dataset = 'assistment'\n",
    "# modify config here\n",
    "config = {\n",
    "    'learning_rate': 0.002,\n",
    "    'batch_size': 2048,\n",
    "    'num_epochs': 10,\n",
    "    'num_dim': 10, # for IRT or MIRT\n",
    "    'device': 'cpu',\n",
    "    # for NeuralCD\n",
    "    'prednet_len1': 128,\n",
    "    'prednet_len2': 64,\n",
    "}"
   ]
  },
  {
   "cell_type": "code",
   "execution_count": 6,
   "metadata": {},
   "outputs": [],
   "source": [
    "# read datasets\n",
    "train_triplets = pd.read_csv(f'../data/{dataset}/train_triples.csv', encoding='utf-8').to_records(index=False)\n",
    "concept_map = json.load(open(f'../data/{dataset}/concept_map.json', 'r'))\n",
    "concept_map = {int(k):v for k,v in concept_map.items()}\n",
    "metadata = json.load(open(f'../data/{dataset}/metadata.json', 'r'))"
   ]
  },
  {
   "cell_type": "code",
   "execution_count": 7,
   "metadata": {},
   "outputs": [],
   "source": [
    "train_data = CAT.dataset.TrainDataset(train_triplets, concept_map,\n",
    "                                      metadata['num_train_students'], \n",
    "                                      metadata['num_questions'], \n",
    "                                      metadata['num_concepts'])"
   ]
  },
  {
   "cell_type": "code",
   "execution_count": 8,
   "metadata": {
    "scrolled": true
   },
   "outputs": [
    {
     "name": "stdout",
     "output_type": "stream",
     "text": [
      "[INFO 2021-03-09 14:46:27,480] train on cpu\n",
      "[INFO 2021-03-09 14:46:27,579] Epoch [1] Batch [0]: loss=inf\n",
      "[INFO 2021-03-09 14:46:27,920] Epoch [1] Batch [10]: loss=0.76105\n",
      "[INFO 2021-03-09 14:46:28,267] Epoch [1] Batch [20]: loss=0.72569\n",
      "[INFO 2021-03-09 14:46:28,482] Epoch [2] Batch [0]: loss=inf\n",
      "[INFO 2021-03-09 14:46:28,826] Epoch [2] Batch [10]: loss=0.75531\n",
      "[INFO 2021-03-09 14:46:29,177] Epoch [2] Batch [20]: loss=0.72002\n",
      "[INFO 2021-03-09 14:46:29,391] Epoch [3] Batch [0]: loss=inf\n",
      "[INFO 2021-03-09 14:46:29,732] Epoch [3] Batch [10]: loss=0.74957\n",
      "[INFO 2021-03-09 14:46:30,080] Epoch [3] Batch [20]: loss=0.71441\n",
      "[INFO 2021-03-09 14:46:30,242] Epoch [4] Batch [0]: loss=inf\n",
      "[INFO 2021-03-09 14:46:30,638] Epoch [4] Batch [10]: loss=0.74343\n",
      "[INFO 2021-03-09 14:46:30,969] Epoch [4] Batch [20]: loss=0.70825\n",
      "[INFO 2021-03-09 14:46:31,129] Epoch [5] Batch [0]: loss=inf\n",
      "[INFO 2021-03-09 14:46:31,505] Epoch [5] Batch [10]: loss=0.73560\n",
      "[INFO 2021-03-09 14:46:31,855] Epoch [5] Batch [20]: loss=0.70078\n",
      "[INFO 2021-03-09 14:46:32,031] Epoch [6] Batch [0]: loss=inf\n",
      "[INFO 2021-03-09 14:46:32,412] Epoch [6] Batch [10]: loss=0.72559\n",
      "[INFO 2021-03-09 14:46:32,767] Epoch [6] Batch [20]: loss=0.69064\n",
      "[INFO 2021-03-09 14:46:32,938] Epoch [7] Batch [0]: loss=inf\n",
      "[INFO 2021-03-09 14:46:33,297] Epoch [7] Batch [10]: loss=0.71256\n",
      "[INFO 2021-03-09 14:46:33,618] Epoch [7] Batch [20]: loss=0.67773\n",
      "[INFO 2021-03-09 14:46:33,777] Epoch [8] Batch [0]: loss=inf\n",
      "[INFO 2021-03-09 14:46:34,124] Epoch [8] Batch [10]: loss=0.69541\n",
      "[INFO 2021-03-09 14:46:34,517] Epoch [8] Batch [20]: loss=0.66073\n",
      "[INFO 2021-03-09 14:46:34,684] Epoch [9] Batch [0]: loss=inf\n",
      "[INFO 2021-03-09 14:46:35,024] Epoch [9] Batch [10]: loss=0.67549\n",
      "[INFO 2021-03-09 14:46:35,412] Epoch [9] Batch [20]: loss=0.64151\n",
      "[INFO 2021-03-09 14:46:35,569] Epoch [10] Batch [0]: loss=inf\n",
      "[INFO 2021-03-09 14:46:35,911] Epoch [10] Batch [10]: loss=0.65485\n",
      "[INFO 2021-03-09 14:46:36,296] Epoch [10] Batch [20]: loss=0.62124\n"
     ]
    }
   ],
   "source": [
    "# define model here\n",
    "model = CAT.model.IRTModel(**config)\n",
    "# train model\n",
    "model.init_model(train_data)\n",
    "model.train(train_data, log_step=10)"
   ]
  },
  {
   "cell_type": "code",
   "execution_count": 9,
   "metadata": {},
   "outputs": [],
   "source": [
    "# save model\n",
    "model.adaptest_save('../ckpt/mirt.pt')"
   ]
  }
 ],
 "metadata": {
  "kernelspec": {
   "display_name": "Python 3",
   "language": "python",
   "name": "python3"
  },
  "language_info": {
   "codemirror_mode": {
    "name": "ipython",
    "version": 3
   },
   "file_extension": ".py",
   "mimetype": "text/x-python",
   "name": "python",
   "nbconvert_exporter": "python",
   "pygments_lexer": "ipython3",
   "version": "3.7.9"
  }
 },
 "nbformat": 4,
 "nbformat_minor": 4
}
