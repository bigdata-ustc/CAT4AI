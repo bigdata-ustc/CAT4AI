{
 "cells": [
  {
   "cell_type": "code",
   "execution_count": 39,
   "metadata": {},
   "outputs": [],
   "source": [
    "import sys\n",
    "sys.path.append('..')\n",
    "import CAT\n",
    "import json\n",
    "import logging\n",
    "import numpy as np\n",
    "import pandas as pd"
   ]
  },
  {
   "cell_type": "code",
   "execution_count": 40,
   "metadata": {},
   "outputs": [],
   "source": [
    "def setuplogger():\n",
    "    root = logging.getLogger()\n",
    "    root.setLevel(logging.INFO)\n",
    "    handler = logging.StreamHandler(sys.stdout)\n",
    "    handler.setLevel(logging.INFO)\n",
    "    formatter = logging.Formatter(\"[%(levelname)s %(asctime)s] %(message)s\")\n",
    "    handler.setFormatter(formatter)\n",
    "    root.addHandler(handler)"
   ]
  },
  {
   "cell_type": "code",
   "execution_count": 41,
   "metadata": {},
   "outputs": [],
   "source": [
    "setuplogger()"
   ]
  },
  {
   "cell_type": "code",
   "execution_count": 42,
   "metadata": {},
   "outputs": [],
   "source": [
    "# choose dataset here\n",
    "dataset = 'dataset'\n",
    "# modify config here\n",
    "config = {\n",
    "    'learning_rate': 0.002,\n",
    "    'batch_size': 256,\n",
    "    'num_epochs': 2,\n",
    "    'num_dim': 1, # for IRT or MIRT\n",
    "    'device': 'cpu',\n",
    "    # for NeuralCD\n",
    "    'prednet_len1': 128,\n",
    "    'prednet_len2': 64,\n",
    "}"
   ]
  },
  {
   "cell_type": "code",
   "execution_count": 43,
   "metadata": {},
   "outputs": [],
   "source": [
    "# read datasets\n",
    "train_triplets = pd.read_csv(f'./dataset/train_triples.csv', encoding='utf-8').to_records(index=False)\n",
    "concept_map = json.load(open(f'./dataset/concept_map.json', 'r'))\n",
    "concept_map = {int(k):v for k,v in concept_map.items()}\n",
    "metadata = json.load(open(f'./dataset/metadata.json', 'r'))"
   ]
  },
  {
   "cell_type": "code",
   "execution_count": 44,
   "metadata": {},
   "outputs": [],
   "source": [
    "train_data = CAT.dataset.TrainDataset(train_triplets, concept_map,\n",
    "                                      metadata['num_train_students'], \n",
    "                                      metadata['num_questions'], \n",
    "                                      metadata['num_concepts'])"
   ]
  },
  {
   "cell_type": "code",
   "execution_count": 45,
   "metadata": {
    "scrolled": true
   },
   "outputs": [
    {
     "name": "stdout",
     "output_type": "stream",
     "text": [
      "[INFO 2024-09-29 18:10:03,390] train on cpu\n",
      "[INFO 2024-09-29 18:10:03,390] train on cpu\n",
      "[INFO 2024-09-29 18:10:03,390] train on cpu\n",
      "[INFO 2024-09-29 18:10:03,390] train on cpu\n",
      "[INFO 2024-09-29 18:10:03,804] Epoch [1] Batch [0]: loss=inf\n",
      "[INFO 2024-09-29 18:10:03,804] Epoch [1] Batch [0]: loss=inf\n",
      "[INFO 2024-09-29 18:10:03,804] Epoch [1] Batch [0]: loss=inf\n",
      "[INFO 2024-09-29 18:10:03,804] Epoch [1] Batch [0]: loss=inf\n",
      "[INFO 2024-09-29 18:10:08,141] Epoch [1] Batch [10]: loss=0.76189\n",
      "[INFO 2024-09-29 18:10:08,141] Epoch [1] Batch [10]: loss=0.76189\n",
      "[INFO 2024-09-29 18:10:08,141] Epoch [1] Batch [10]: loss=0.76189\n",
      "[INFO 2024-09-29 18:10:08,141] Epoch [1] Batch [10]: loss=0.76189\n",
      "[INFO 2024-09-29 18:10:12,393] Epoch [1] Batch [20]: loss=0.72696\n",
      "[INFO 2024-09-29 18:10:12,393] Epoch [1] Batch [20]: loss=0.72696\n",
      "[INFO 2024-09-29 18:10:12,393] Epoch [1] Batch [20]: loss=0.72696\n",
      "[INFO 2024-09-29 18:10:12,393] Epoch [1] Batch [20]: loss=0.72696\n",
      "[INFO 2024-09-29 18:10:13,853] Epoch [2] Batch [0]: loss=inf\n",
      "[INFO 2024-09-29 18:10:13,853] Epoch [2] Batch [0]: loss=inf\n",
      "[INFO 2024-09-29 18:10:13,853] Epoch [2] Batch [0]: loss=inf\n",
      "[INFO 2024-09-29 18:10:13,853] Epoch [2] Batch [0]: loss=inf\n",
      "[INFO 2024-09-29 18:10:18,133] Epoch [2] Batch [10]: loss=0.75604\n",
      "[INFO 2024-09-29 18:10:18,133] Epoch [2] Batch [10]: loss=0.75604\n",
      "[INFO 2024-09-29 18:10:18,133] Epoch [2] Batch [10]: loss=0.75604\n",
      "[INFO 2024-09-29 18:10:18,133] Epoch [2] Batch [10]: loss=0.75604\n",
      "[INFO 2024-09-29 18:10:22,446] Epoch [2] Batch [20]: loss=0.72092\n",
      "[INFO 2024-09-29 18:10:22,446] Epoch [2] Batch [20]: loss=0.72092\n",
      "[INFO 2024-09-29 18:10:22,446] Epoch [2] Batch [20]: loss=0.72092\n",
      "[INFO 2024-09-29 18:10:22,446] Epoch [2] Batch [20]: loss=0.72092\n"
     ]
    }
   ],
   "source": [
    "# define model here\n",
    "model = CAT.model.IRTModel(**config)\n",
    "# train model\n",
    "model.init_model(train_data)\n",
    "model.train(train_data, log_step=10)"
   ]
  },
  {
   "cell_type": "code",
   "execution_count": 46,
   "metadata": {},
   "outputs": [],
   "source": [
    "# save model\n",
    "model.adaptest_save('./irt.pt')"
   ]
  }
 ],
 "metadata": {
  "kernelspec": {
   "display_name": "Python 3",
   "language": "python",
   "name": "python3"
  },
  "language_info": {
   "codemirror_mode": {
    "name": "ipython",
    "version": 3
   },
   "file_extension": ".py",
   "mimetype": "text/x-python",
   "name": "python",
   "nbconvert_exporter": "python",
   "pygments_lexer": "ipython3",
   "version": "3.9.12"
  }
 },
 "nbformat": 4,
 "nbformat_minor": 4
}
